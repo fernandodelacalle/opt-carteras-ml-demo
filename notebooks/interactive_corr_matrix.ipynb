{
 "cells": [
  {
   "cell_type": "code",
   "execution_count": null,
   "metadata": {},
   "outputs": [],
   "source": [
    "import sys\n",
    "sys.path.append('../src')"
   ]
  },
  {
   "cell_type": "code",
   "execution_count": null,
   "metadata": {},
   "outputs": [],
   "source": [
    "import pandas as pd\n",
    "import numpy as np\n",
    "import seaborn as sns\n",
    "import matplotlib.pyplot as plt\n",
    "import ipywidgets as widgets"
   ]
  },
  {
   "cell_type": "code",
   "execution_count": null,
   "metadata": {},
   "outputs": [],
   "source": [
    "from port_opt.hpr import HprAlgorithm\n",
    "from utils import load_data"
   ]
  },
  {
   "cell_type": "code",
   "execution_count": null,
   "metadata": {},
   "outputs": [],
   "source": [
    "# live data from our db\n",
    "data_all_index = utils.load_all_data.load_all_data()\n",
    "# to save data to pkl\n",
    "# utils.load_all_data.save_all_data('../data/data_all_index.pkl', data_all_index)\n",
    "# use pkl for notebook\n",
    "# data_all_index = load_data.load_all_data_plk('../data/data_all_index.pkl')"
   ]
  },
  {
   "cell_type": "code",
   "execution_count": null,
   "metadata": {},
   "outputs": [],
   "source": [
    "@widgets.interact(\n",
    "    index=widgets.Dropdown(options=['ibex', 'dax', 'stoxx'], value='ibex', description='index:'),\n",
    "    date=widgets.IntSlider(min=250, max=data_all_index['ibex'][2], step=10, value=1000, layout=widgets.Layout(width='50%')),\n",
    "    n_hist=widgets.IntSlider(min=10, max=250*5, step=10, value=250, layout=widgets.Layout(width='50%')),\n",
    ")\n",
    "def plot(index, date, n_hist):\n",
    "    sclose, bm, n_days = data_all_index[index]\n",
    "    \n",
    "    date_time = bm.index[date]\n",
    "    date_time_start_data = bm.index[date-n_hist]\n",
    "    idx_date = sclose.index.get_loc(date_time)\n",
    "    \n",
    "    price_data = sclose.iloc[idx_date-n_hist:idx_date]\n",
    "    price_data = price_data.dropna(axis=1)\n",
    "    \n",
    "    returns = np.log(price_data).diff()\n",
    "    returns = returns.dropna()\n",
    "    \n",
    "    mu = returns.mean()\n",
    "    cov = returns.cov()\n",
    "    corr = returns.corr()\n",
    "    \n",
    "    \n",
    "    fig, (ax1, ax2) = plt.subplots(1, 2,figsize=(25, 7))\n",
    "    bm.plot(ax=ax1)\n",
    "    ax1.legend()\n",
    "    ax1.axvline(x=date_time, linewidth=4, color='r')\n",
    "    ax1.axvspan(date_time_start_data, date_time, alpha=0.5, color='grey')\n",
    "\n",
    "    \n",
    "    \n",
    "    hpr = HprAlgorithm(cov, corr)\n",
    "    hpr.plot_dendrogram()\n",
    "    \n",
    "    fig, (ax1, ax2) = plt.subplots(1, 2,figsize=(25, 7))\n",
    "    \n",
    "    sns.heatmap(corr, ax=ax1, annot=True, fmt=\".1f\")\n",
    "    \n",
    "    corr_sort = hpr.sort_corr()\n",
    "    sns.heatmap(corr_sort, ax=ax2, annot=True, fmt=\".1f\")\n",
    "    \n",
    "    sns.clustermap(hpr.dist, method='single', center=0, linewidths=.75)\n",
    "    \n",
    "    sns.heatmap(hpr.dist, ax=ax2, annot=True, fmt=\".1f\")"
   ]
  },
  {
   "cell_type": "code",
   "execution_count": null,
   "metadata": {},
   "outputs": [],
   "source": []
  }
 ],
 "metadata": {
  "kernelspec": {
   "display_name": "Python 3 (ipykernel)",
   "language": "python",
   "name": "python3"
  },
  "language_info": {
   "codemirror_mode": {
    "name": "ipython",
    "version": 3
   },
   "file_extension": ".py",
   "mimetype": "text/x-python",
   "name": "python",
   "nbconvert_exporter": "python",
   "pygments_lexer": "ipython3",
   "version": "3.7.3"
  }
 },
 "nbformat": 4,
 "nbformat_minor": 4
}
