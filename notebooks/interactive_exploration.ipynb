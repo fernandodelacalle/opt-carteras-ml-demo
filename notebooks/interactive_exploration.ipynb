{
 "cells": [
  {
   "cell_type": "code",
   "execution_count": null,
   "metadata": {},
   "outputs": [],
   "source": [
    "import sys\n",
    "sys.path.append('../src')"
   ]
  },
  {
   "cell_type": "code",
   "execution_count": null,
   "metadata": {},
   "outputs": [],
   "source": [
    "import pandas as pd\n",
    "import numpy as np\n",
    "import matplotlib.pyplot as plt\n",
    "import ipywidgets as widgets"
   ]
  },
  {
   "cell_type": "code",
   "execution_count": null,
   "metadata": {},
   "outputs": [],
   "source": [
    "from utils import load_data\n",
    "from port_opt.port_optimizer import PortfolioOptimizer"
   ]
  },
  {
   "cell_type": "code",
   "execution_count": null,
   "metadata": {},
   "outputs": [],
   "source": [
    "# live data from our db\n",
    "data_all_index = load_data.load_all_data()\n",
    "# to save data to pkl\n",
    "# load_data.save_all_data('../data/data_all_index.pkl', data_all_index)\n",
    "# use pkl for notebook\n",
    "# data_all_index = load_data.load_all_data_plk('../data/data_all_index.pkl')"
   ]
  },
  {
   "cell_type": "code",
   "execution_count": null,
   "metadata": {
    "tags": []
   },
   "outputs": [],
   "source": [
    "show_data = data_all_index['ibex'][0]\n",
    "show_data"
   ]
  },
  {
   "cell_type": "markdown",
   "metadata": {},
   "source": [
    "___"
   ]
  },
  {
   "cell_type": "code",
   "execution_count": null,
   "metadata": {},
   "outputs": [],
   "source": [
    "def get_port_serie(close_data, weights):\n",
    "    future_data = close_data.loc[:, weights.index]\n",
    "    future_data = future_data.fillna(method='ffill')\n",
    "    returns_future_data = future_data.pct_change()\n",
    "    returns_future_data = returns_future_data + 1\n",
    "    returns_future_data.iloc[0,:] = weights\n",
    "    port_data = returns_future_data.cumprod()\n",
    "    portfolio_data = port_data.sum(axis=1)\n",
    "    return portfolio_data\n",
    "\n",
    "def porfolio_from_start_value(portfolio_data, start_value):\n",
    "    portfolio_data_returns = portfolio_data.pct_change()\n",
    "    portfolio_data_returns = portfolio_data_returns + 1\n",
    "    portfolio_data_returns.iloc[0] = start_value\n",
    "    portfolio_data_start = portfolio_data_returns.cumprod()\n",
    "    return portfolio_data_start"
   ]
  },
  {
   "cell_type": "code",
   "execution_count": null,
   "metadata": {},
   "outputs": [],
   "source": [
    "def get_portfolios(price_data, max_w=1):\n",
    "    returns = np.log(price_data).diff()\n",
    "    returns = returns.dropna()\n",
    "    po = PortfolioOptimizer(returns)\n",
    "    \n",
    "    m_sharpe = po.cla_max_sharpe_portfolio(max_w=max_w)\n",
    "    m_sharpe.name = 'cla_max_sharpe_portfolio'\n",
    "    m_vol = po.cla_min_volatility_portfolio(max_w=max_w)\n",
    "    m_vol.name = 'cla_min_volatility_portfolio'\n",
    "    ivp = po.ivp_portfolio()\n",
    "    ivp.name = 'ivp'  \n",
    "    eq_w = po.eq_w_portfolio()\n",
    "    eq_w.name = 'eq_w'\n",
    "    hpr = po.hrp_portfolio()\n",
    "    hpr.name = 'hrp'\n",
    "    \n",
    "    return eq_w, m_sharpe, m_vol, ivp, hpr\n",
    "    "
   ]
  },
  {
   "cell_type": "code",
   "execution_count": null,
   "metadata": {},
   "outputs": [],
   "source": [
    "from port_opt.hpr import HprAlgorithm\n",
    "\n",
    "\n",
    "def make_plots_interact(date, n_hist, max_w, sclose, bm, eq_w, ivp, min_vol, max_sharpe, hpr):\n",
    "    \n",
    "    date_time = bm.index[date]\n",
    "    date_time_start_data = bm.index[date-n_hist]\n",
    "    idx_date = sclose.index.get_loc(date_time)\n",
    "    \n",
    "    price_data = sclose.iloc[idx_date-n_hist:idx_date]\n",
    "    price_data = price_data.dropna(axis=1)\n",
    "    close_data_future = sclose.iloc[idx_date+1:]\n",
    "    \n",
    "    returns = np.log(price_data).diff()\n",
    "    returns = returns.dropna()\n",
    "    po = PortfolioOptimizer(returns)\n",
    "    \n",
    "    if eq_w:\n",
    "        eq_w_weights = po.eq_w_portfolio()\n",
    "        eq_w_weights.name = 'eq_w'\n",
    "        portfolio_data_eq_w = get_port_serie(close_data_future, eq_w_weights)\n",
    "        date_start = portfolio_data_eq_w.index[0]\n",
    "        start_value = bm.loc[date_start]\n",
    "        portfolio_data_eq_w = porfolio_from_start_value(portfolio_data_eq_w, start_value)\n",
    "        portfolio_data_eq_w.name='eq_w'\n",
    "\n",
    "    if ivp:\n",
    "        ivp_weights = po.ivp_portfolio()\n",
    "        ivp_weights.name = 'ivp'  \n",
    "        portfolio_data_ivp = get_port_serie(close_data_future, ivp_weights)\n",
    "        date_start = portfolio_data_ivp.index[0]\n",
    "        start_value = bm.loc[date_start]\n",
    "        portfolio_data_ivp = porfolio_from_start_value(portfolio_data_ivp, start_value)\n",
    "        portfolio_data_ivp.name = 'ivp'\n",
    "    \n",
    "    if max_sharpe:\n",
    "        m_sharpe_weights = po.cla_max_sharpe_portfolio(max_w=max_w)\n",
    "        m_sharpe_weights.name = 'cla_max_sharpe_portfolio'\n",
    "        portfolio_data_max_sharpe = get_port_serie(close_data_future, m_sharpe_weights)\n",
    "        date_start = portfolio_data_max_sharpe.index[0]\n",
    "        start_value = bm.loc[date_start]\n",
    "        portfolio_data_max_sharpe = porfolio_from_start_value(portfolio_data_max_sharpe, start_value)\n",
    "        portfolio_data_max_sharpe.name = 'max_sharpe'\n",
    "    \n",
    "    if min_vol:\n",
    "        m_vol_weights = po.cla_min_volatility_portfolio(max_w=max_w)\n",
    "        m_vol_weights.name = 'cla_min_volatility_portfolio'\n",
    "        portfolio_data_min_vol = get_port_serie(close_data_future, m_vol_weights)\n",
    "        date_start = portfolio_data_min_vol.index[0]\n",
    "        start_value = bm.loc[date_start]\n",
    "        portfolio_data_min_vol = porfolio_from_start_value(portfolio_data_min_vol, start_value)\n",
    "        portfolio_data_min_vol.name='min_vol'\n",
    "    \n",
    "    if hpr:\n",
    "        hpr_weights = po.hrp_portfolio()\n",
    "        hpr_weights.name = 'hrp'\n",
    "        portfolio_data_hrp = get_port_serie(close_data_future, hpr_weights)\n",
    "        date_start = portfolio_data_hrp.index[0]\n",
    "        start_value = bm.loc[date_start]\n",
    "        portfolio_data_hrp = porfolio_from_start_value(portfolio_data_hrp, start_value)\n",
    "        portfolio_data_hrp.name='hrp'\n",
    "    \n",
    "    \n",
    "    \n",
    "    fig, ax = plt.subplots(figsize=(25, 7))\n",
    "    bm.plot(ax=ax)\n",
    "    \n",
    "    \n",
    "    if eq_w:\n",
    "        portfolio_data_eq_w.plot(ax=ax)\n",
    "    if ivp:\n",
    "        portfolio_data_ivp.plot(ax=ax) \n",
    "    if max_sharpe:\n",
    "        portfolio_data_max_sharpe.plot(ax=ax)\n",
    "    if min_vol:\n",
    "        portfolio_data_min_vol.plot(ax=ax)\n",
    "    if hpr:\n",
    "        portfolio_data_hrp.plot(ax=ax)\n",
    "    \n",
    "    \n",
    "    ax.legend()\n",
    "    ax.axvline(x=date_time, linewidth=4, color='r')\n",
    "    ax.axvspan(date_time_start_data, date_time, alpha=0.5, color='grey')\n",
    "    \n",
    "\n",
    "    n_len = sum([eq_w, ivp, max_sharpe, min_vol, hpr])\n",
    "    fig, axes = plt.subplots(1, n_len, figsize=(n_len*5, 5))   \n",
    "    \n",
    "    ax_indx = 0\n",
    "    if eq_w:\n",
    "        eq_w_weights.plot.pie(ax=axes[ax_indx])\n",
    "        ax_indx = ax_indx + 1\n",
    "    if ivp:\n",
    "        ivp_weights.plot.pie(ax=axes[ax_indx])\n",
    "        ax_indx = ax_indx + 1\n",
    "    if max_sharpe:\n",
    "        m_sharpe_weights.plot.pie(ax=axes[ax_indx])\n",
    "        ax_indx = ax_indx + 1\n",
    "    if min_vol:\n",
    "        m_vol_weights.plot.pie(ax=axes[ax_indx])\n",
    "        ax_indx = ax_indx + 1\n",
    "    if hpr:\n",
    "        hpr_weights.plot.pie(ax=axes[ax_indx])\n",
    "        ax_indx = ax_indx + 1\n",
    "        \n",
    "        \n",
    "        mu = returns.mean()\n",
    "        cov = returns.cov()\n",
    "        corr = returns.corr()\n",
    "        hpr = HprAlgorithm(cov, corr)\n",
    "        hpr.plot_dendrogram()\n",
    "    "
   ]
  },
  {
   "cell_type": "code",
   "execution_count": null,
   "metadata": {},
   "outputs": [],
   "source": [
    "@widgets.interact(\n",
    "    index=widgets.Dropdown(options=['ibex', 'dax', 'stoxx', 'stoxx_sectors'], value='ibex', description='index:'),\n",
    "    date=widgets.IntSlider(min=250, max=data_all_index['stoxx_sectors'][2], step=10, value=1000, layout=widgets.Layout(width='50%')),\n",
    "    max_w=widgets.FloatSlider(min=0.05, max=1, step=0.05, value=1.0, layout=widgets.Layout(width='50%')),\n",
    "    eq_w=widgets.Checkbox(value=True, description='eq_w', disabled=False),\n",
    "    ivp=widgets.Checkbox(value=True, description='ivp', disabled=False),\n",
    "    min_vol=widgets.Checkbox(value=False, description='min_vol', disabled=False),\n",
    "    max_sharpe=widgets.Checkbox(value=False, description='max_sharpe', disabled=False),\n",
    "    hpr=widgets.Checkbox(value=False, description='hpr', disabled=False),\n",
    "    n_hist=widgets.IntSlider(min=10, max=250*5, step=10, value=250, layout=widgets.Layout(width='50%')),\n",
    ")\n",
    "def plot(index, date, max_w, n_hist, eq_w, ivp, min_vol, max_sharpe, hpr):\n",
    "    sclose, bm, n_days = data_all_index[index]\n",
    "    make_plots_interact(date, n_hist, max_w, sclose, bm, eq_w, ivp, min_vol, max_sharpe, hpr)"
   ]
  },
  {
   "cell_type": "code",
   "execution_count": null,
   "metadata": {},
   "outputs": [],
   "source": []
  }
 ],
 "metadata": {
  "kernelspec": {
   "display_name": "Python 3 (ipykernel)",
   "language": "python",
   "name": "python3"
  },
  "language_info": {
   "codemirror_mode": {
    "name": "ipython",
    "version": 3
   },
   "file_extension": ".py",
   "mimetype": "text/x-python",
   "name": "python",
   "nbconvert_exporter": "python",
   "pygments_lexer": "ipython3",
   "version": "3.7.3"
  }
 },
 "nbformat": 4,
 "nbformat_minor": 4
}
