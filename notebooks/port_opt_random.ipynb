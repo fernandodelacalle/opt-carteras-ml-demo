{
 "cells": [
  {
   "cell_type": "code",
   "execution_count": null,
   "metadata": {},
   "outputs": [],
   "source": [
    "import sys\n",
    "sys.path.append('../src')"
   ]
  },
  {
   "cell_type": "code",
   "execution_count": null,
   "metadata": {},
   "outputs": [],
   "source": [
    "import pandas as pd\n",
    "import numpy as np\n",
    "import seaborn as sns\n",
    "import matplotlib.pyplot as plt"
   ]
  },
  {
   "cell_type": "markdown",
   "metadata": {},
   "source": [
    "___"
   ]
  },
  {
   "cell_type": "code",
   "execution_count": null,
   "metadata": {},
   "outputs": [],
   "source": [
    "# random\n",
    "n_assets = 4\n",
    "n_obs = 1000\n",
    "sigma = 4 / np.sqrt(252)\n",
    "returns = pd.DataFrame(sigma*np.random.randn(n_obs, n_assets), columns=['a_1','a_2', 'a_3', 'a_4'])"
   ]
  },
  {
   "cell_type": "code",
   "execution_count": null,
   "metadata": {},
   "outputs": [],
   "source": [
    "mu = np.mean(returns, axis=0)\n",
    "cov = returns.cov()"
   ]
  },
  {
   "cell_type": "code",
   "execution_count": null,
   "metadata": {},
   "outputs": [],
   "source": [
    "sns.heatmap(cov, annot=True, fmt=\".2f\")"
   ]
  },
  {
   "cell_type": "markdown",
   "metadata": {},
   "source": [
    "### Montecarlo simulation\n",
    "___"
   ]
  },
  {
   "cell_type": "code",
   "execution_count": null,
   "metadata": {},
   "outputs": [],
   "source": [
    "n_sim = 500"
   ]
  },
  {
   "cell_type": "code",
   "execution_count": null,
   "metadata": {},
   "outputs": [],
   "source": [
    "w = np.random.rand(n_sim, n_assets)\n",
    "w = w / w.sum(axis=1, keepdims=True)"
   ]
  },
  {
   "cell_type": "code",
   "execution_count": null,
   "metadata": {},
   "outputs": [],
   "source": [
    "r = w.dot(mu.T)\n",
    "std = np.apply_along_axis(lambda x: np.sqrt(x.dot(cov).dot(x.T)), 1, w)"
   ]
  },
  {
   "cell_type": "code",
   "execution_count": null,
   "metadata": {},
   "outputs": [],
   "source": [
    "w_one = np.diagflat(np.ones(4))\n",
    "r_ones = w_one.dot(mu.T)\n",
    "std_ones = np.apply_along_axis(lambda x: np.sqrt(x.dot(cov).dot(x.T)), 1, w_one)"
   ]
  },
  {
   "cell_type": "code",
   "execution_count": null,
   "metadata": {},
   "outputs": [],
   "source": [
    "fig, ax = plt.subplots(figsize=(10,7))\n",
    "ax.plot(std, r, 'o', markersize=5)\n",
    "#ax.plot(returns.std(), returns.mean(), 'o', markersize=5)\n",
    "#ax.plot(std_ones, r_ones, 'o', markersize=5)\n",
    "_ = plt.xlabel('std')\n",
    "_ = plt.ylabel('r')"
   ]
  },
  {
   "cell_type": "markdown",
   "metadata": {},
   "source": [
    "### Efficient Frontier\n",
    "___"
   ]
  },
  {
   "cell_type": "code",
   "execution_count": null,
   "metadata": {},
   "outputs": [],
   "source": [
    "from port_opt.efficient_frontier import efficient_frontier_convex"
   ]
  },
  {
   "cell_type": "code",
   "execution_count": null,
   "metadata": {},
   "outputs": [],
   "source": [
    "ret_data, risk_data, gamma_vals, portfolio_weights = efficient_frontier_convex(returns,  n_samples=1000, gamma_low=-5, gamma_high=5)"
   ]
  },
  {
   "cell_type": "code",
   "execution_count": null,
   "metadata": {},
   "outputs": [],
   "source": [
    "fig, ax = plt.subplots(figsize=(10,7))\n",
    "ax.plot(std, r, 'o', markersize=5)\n",
    "ax.plot(risk_data, ret_data, 'r', markersize=5)\n",
    "_ = plt.xlabel('std')\n",
    "_ = plt.ylabel('r')"
   ]
  },
  {
   "cell_type": "markdown",
   "metadata": {},
   "source": [
    "### CLA\n",
    "___"
   ]
  },
  {
   "cell_type": "code",
   "execution_count": null,
   "metadata": {},
   "outputs": [],
   "source": [
    "from port_opt.efficient_frontier import efficient_frontier_cla\n",
    "from port_opt.port_optimizer import PortfolioOptimizer"
   ]
  },
  {
   "cell_type": "code",
   "execution_count": null,
   "metadata": {},
   "outputs": [],
   "source": [
    "means_cla, sigma_cla, weights_cla= efficient_frontier_cla(returns)"
   ]
  },
  {
   "cell_type": "code",
   "execution_count": null,
   "metadata": {},
   "outputs": [],
   "source": [
    "def compute_ret_sigma(w, mu, sigma):\n",
    "    r = w.dot(mu)\n",
    "    std = np.sqrt(w.dot(sigma).dot(w))\n",
    "    return r, std"
   ]
  },
  {
   "cell_type": "code",
   "execution_count": null,
   "metadata": {},
   "outputs": [],
   "source": [
    "po = PortfolioOptimizer(returns)\n",
    "max_sharpe_cla_weights = po.cla_max_sharpe_portfolio()\n",
    "max_sharpe_cla_weights = max_sharpe_cla_weights.reindex(mu.index).fillna(0)\n",
    "r_max_sharpe, std_max_sharpe = compute_ret_sigma(max_sharpe_cla_weights, mu, cov)\n",
    "min_vol_cla_weights = po.cla_min_volatility_portfolio()\n",
    "r_min_vol, std_min_vol = compute_ret_sigma(min_vol_cla_weights, mu, cov)"
   ]
  },
  {
   "cell_type": "code",
   "execution_count": null,
   "metadata": {},
   "outputs": [],
   "source": [
    "fig, ax = plt.subplots(figsize=(10,7))\n",
    "ax.plot(std[:30], r[:30], 'or', markersize=5)\n",
    "ax.plot(std[30:], r[30:], 'o', markersize=5)\n",
    "\n",
    "ax.plot(sigma_cla, means_cla, 'r', markersize=5)\n",
    "\n",
    "ax.plot(std_max_sharpe, r_max_sharpe, '*', markersize=20)\n",
    "ax.plot(std_min_vol, r_min_vol, '.', markersize=20)\n",
    "\n",
    "ax.plot([0, std_max_sharpe], [0, r_max_sharpe], 'g')\n",
    "\n",
    "ax.set_xlim(-0.008, 0.008)\n",
    "ax.set_xlim(0, 0.25)\n",
    "\n",
    "_ = plt.xlabel('std')\n",
    "_ = plt.ylabel('r')"
   ]
  }
 ],
 "metadata": {
  "kernelspec": {
   "display_name": "Python 3 (ipykernel)",
   "language": "python",
   "name": "python3"
  },
  "language_info": {
   "codemirror_mode": {
    "name": "ipython",
    "version": 3
   },
   "file_extension": ".py",
   "mimetype": "text/x-python",
   "name": "python",
   "nbconvert_exporter": "python",
   "pygments_lexer": "ipython3",
   "version": "3.7.3"
  }
 },
 "nbformat": 4,
 "nbformat_minor": 4
}
